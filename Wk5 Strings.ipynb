{
 "cells": [
  {
   "cell_type": "code",
   "execution_count": 1,
   "id": "57a5fa9e",
   "metadata": {},
   "outputs": [],
   "source": [
    "from typing import List"
   ]
  },
  {
   "cell_type": "markdown",
   "id": "2f08adb4",
   "metadata": {},
   "source": [
    "## Group Anagrams\n",
    "\n",
    "1. Sort each string.  Same anagram ==> same sorted strings\n",
    "\n",
    "OR\n",
    "\n",
    "2. Make each string into a freqString: i-th bit is x iff the char with ascii value i appears x times in the string."
   ]
  },
  {
   "cell_type": "code",
   "execution_count": 2,
   "id": "f1beb327",
   "metadata": {},
   "outputs": [
    {
     "data": {
      "text/plain": [
       "['a', 'a', 'l', 'n']"
      ]
     },
     "execution_count": 2,
     "metadata": {},
     "output_type": "execute_result"
    }
   ],
   "source": [
    "x = \"alan\"\n",
    "sorted(x)"
   ]
  },
  {
   "cell_type": "markdown",
   "id": "6f9626b1",
   "metadata": {},
   "source": [
    "## Sliding Windows\n",
    "\n",
    "### Longest substring without repeating characters\n",
    "\n",
    "\n",
    "### Longest substring with At Most 2 Distinct Characters\n",
    "\n",
    "\n",
    "### Longest Repeating Character replacement\n",
    "Operation: replace any char in the string .\n",
    "You can do the operation at most k times. What's the longest repeating substring possible after these <= k operations?\n",
    "\n",
    "Sliding window. \n",
    "\n"
   ]
  },
  {
   "cell_type": "code",
   "execution_count": 12,
   "id": "7f997011",
   "metadata": {},
   "outputs": [
    {
     "data": {
      "text/plain": [
       "4"
      ]
     },
     "execution_count": 12,
     "metadata": {},
     "output_type": "execute_result"
    }
   ],
   "source": [
    "def characterReplacement(s: str, k: int) -> int:\n",
    "    \"\"\"\n",
    "    #\n",
    "    AABA\n",
    "      ^\n",
    "\n",
    "    \"\"\"\n",
    "    freq = [0]*26       # Char: frequency in substring s[left:right+1]\n",
    "    maxFreq = 0\n",
    "\n",
    "\n",
    "    bestLength = 0   # Longest length of repeating characters after replacements\n",
    "    left = 0 \n",
    "    for right, char in enumerate(s):\n",
    "        freq[ord(char)-ord('A')] += 1\n",
    "        maxFreq = max(maxFreq, freq[ord(char)-ord('A')])\n",
    "\n",
    "        # Shrink left (while necessary)\n",
    "        while right - left + 1 - maxFreq > k:\n",
    "            freq[ord(s[left]) - ord('A')] -= 1\n",
    "            left += 1\n",
    "\n",
    "        bestLength = max(bestLength, right-left+1)\n",
    "\n",
    "    return bestLength\n",
    "\n",
    "characterReplacement('AABA', 1)"
   ]
  },
  {
   "cell_type": "markdown",
   "id": "5e42ad22",
   "metadata": {},
   "source": [
    "### Minimum Window Substring (76)\n",
    "Given two strings s and t of lengths m and n respectively, return the minimum window substring of s such that every character in t (including duplicates) is included in the window. If there is no such substring, return the empty string \"\".\n"
   ]
  },
  {
   "cell_type": "code",
   "execution_count": 2,
   "id": "c93dc347",
   "metadata": {},
   "outputs": [],
   "source": [
    "class MinimumWindowSubstring:\n",
    "    def minWindow(self, s: str, t: str) -> str:\n",
    "        if len(s) < len(t):\n",
    "            return \"\"\n",
    "        \n",
    "        '''\n",
    "        Expands rightward until get a desirable window. \n",
    "        Record its length.\n",
    "        Shrink left, and if it's still a desirable window, record length. \n",
    "        \n",
    "        \n",
    "        still_need = {char: count}\n",
    "        \n",
    "        t = ABC\n",
    "        s = ADOBECODEBANC\n",
    "            ^\n",
    "                 ^\n",
    "            \n",
    "        still_need {\n",
    "            A: 0\n",
    "            B: 0\n",
    "            C: 0\n",
    "        }\n",
    "        effective_needs = 0\n",
    "        \n",
    "        '''\n",
    "        effective_needs = 0\n",
    "        still_need = defaultdict(int)\n",
    "        for char in t:\n",
    "            still_need[char] += 1\n",
    "            effective_needs += 1\n",
    "            \n",
    "            \n",
    "        start, end = 0, len(s)-1  # both inclusive indices\n",
    "        found = False\n",
    "        \n",
    "        # Sliding window (left, right all inclusive)\n",
    "        left = 0\n",
    "        for right, char in enumerate(s):\n",
    "            if char not in still_need:\n",
    "                continue\n",
    "            # need char\n",
    "            still_need[char] -= 1\n",
    "            # is char effective in satisfying any char in t that's still lacking in window? If so, decrease effective_needs\n",
    "            if still_need[char] >= 0:   \n",
    "                effective_needs -= 1\n",
    "                # Is current window is desirable? Record size. \n",
    "                # Shirnk left boundary, until the window is no more desirable\n",
    "                while effective_needs == 0:\n",
    "                    found = True\n",
    "                    # Update best window size\n",
    "                    if (right - left) < (end - start):\n",
    "                        start, end = left, right\n",
    "\n",
    "                    # Shrink left boundary. \n",
    "                    # 1. Can shirnk as s[left] is not needed at all\n",
    "                    if (s[left] not in still_need):\n",
    "                        left += 1\n",
    "                        continue\n",
    "                    \n",
    "                    # 2. Can shrink as removing s[left] doesn't increase effective_needs  => window still valid\n",
    "                    elif (still_need[s[left]] < 0):\n",
    "                        # remove the surplus\n",
    "                        still_need[s[left]] += 1\n",
    "                    else:\n",
    "                        # s[left] is needed, so removing it creates effective_needs. \n",
    "                        # Since we have already record the best window size above, safely shrink left (and ends while).\n",
    "                        still_need[s[left]] += 1\n",
    "                        effective_needs += 1\n",
    "\n",
    "                    left += 1\n",
    "                        \n",
    "        return s[start : end+1] if found else \"\"\n",
    "                        \n",
    "    '''\n",
    "    assums S > T\n",
    "    Time: O(S + T)  as each element is processed at most twice (in-window & out-window)\n",
    "    Space: O(T) \n",
    "    '''                    \n",
    "                        \n",
    "    "
   ]
  },
  {
   "cell_type": "markdown",
   "id": "e7f1bd81",
   "metadata": {},
   "source": [
    "Binary Search"
   ]
  },
  {
   "cell_type": "markdown",
   "id": "03f5a617",
   "metadata": {},
   "source": [
    "Find the Duplicate Number\n",
    "\n",
    "Given a `nums` of n+1 integers where each integer is in the range `[1,n]`. Find the duplicate. Use `O(1)` space.\n",
    "\n",
    "\n",
    "==>  https://keithschwarz.com/interesting/code/?dir=find-duplicate\n",
    "Reduce to find linked list cycle! Amazing!"
   ]
  },
  {
   "cell_type": "code",
   "execution_count": 15,
   "id": "c60ed423",
   "metadata": {},
   "outputs": [],
   "source": []
  },
  {
   "cell_type": "code",
   "execution_count": 18,
   "id": "65b243bc",
   "metadata": {},
   "outputs": [],
   "source": [
    "# Find Unique num (God-like XOR)\n",
    "def findUnique(nums):\n",
    "    field = 0\n",
    "    for x in nums:\n",
    "        field ^= x\n",
    "    return field"
   ]
  },
  {
   "cell_type": "code",
   "execution_count": null,
   "id": "fa8e0b72",
   "metadata": {},
   "outputs": [],
   "source": [
    "\n",
    "\n",
    "## String Matching algorithm\n",
    "\n",
    "KMP"
   ]
  },
  {
   "cell_type": "code",
   "execution_count": null,
   "id": "7abe4572",
   "metadata": {},
   "outputs": [],
   "source": []
  },
  {
   "cell_type": "markdown",
   "id": "75670e06",
   "metadata": {},
   "source": [
    "## Median of two sorted Arrays"
   ]
  },
  {
   "cell_type": "code",
   "execution_count": null,
   "id": "166d5e98",
   "metadata": {},
   "outputs": [],
   "source": []
  }
 ],
 "metadata": {
  "kernelspec": {
   "display_name": "Python 3 (ipykernel)",
   "language": "python",
   "name": "python3"
  },
  "language_info": {
   "codemirror_mode": {
    "name": "ipython",
    "version": 3
   },
   "file_extension": ".py",
   "mimetype": "text/x-python",
   "name": "python",
   "nbconvert_exporter": "python",
   "pygments_lexer": "ipython3",
   "version": "3.8.5"
  }
 },
 "nbformat": 4,
 "nbformat_minor": 5
}
