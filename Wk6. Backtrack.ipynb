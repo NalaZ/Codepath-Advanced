{
 "cells": [
  {
   "cell_type": "code",
   "execution_count": 37,
   "id": "88688d10",
   "metadata": {},
   "outputs": [],
   "source": [
    "from pprint import pprint"
   ]
  },
  {
   "cell_type": "markdown",
   "id": "7a85d637",
   "metadata": {},
   "source": [
    "Many graph problems can be solved using **backtrack** (try one path, if that doesn't work, return from the function call and try the next path).\n",
    "\n",
    "Tutorial: https://leetcode.com/explore/learn/card/recursion-ii/472/backtracking/2793/\n",
    "Problems:\n",
    "- Word Search (in matrix)\n",
    "- Word Search II （early exit in backtrack ? Store all words in a **trie** to know if our current path is any word's prefix => if not, then early exit.)\n",
    "- Robot Cleaner\n",
    "- N-Queens\n",
    "- Word Break II\n"
   ]
  },
  {
   "cell_type": "markdown",
   "id": "044d28f5",
   "metadata": {},
   "source": [
    "### Word Search in Matrix\n",
    "https://leetcode.com/problems/word-search/\n",
    "\n",
    "Backtrack "
   ]
  },
  {
   "cell_type": "code",
   "execution_count": 43,
   "id": "4ed85a73",
   "metadata": {},
   "outputs": [],
   "source": [
    "# Smarter: Backtracking\n",
    "def exist(board, word: str) -> bool:\n",
    "    rows, cols = len(board), len(board[0])\n",
    "\n",
    "    def dfs(row, col, index):\n",
    "        if index == len(word)-1:\n",
    "            return True\n",
    "        if word[index] != board[row][col]:\n",
    "            return False\n",
    "\n",
    "        # *Backtrack*: \n",
    "        original = board[row][col]\n",
    "        board[row][col]  = '*'\n",
    "        found = False\n",
    "        for nextRow, nextCol in [(row+1,col), (row-1,col), (row,col+1), (row,col-1)]:\n",
    "            if 0 <= nextRow < rows and 0 <= nextCol < cols and word[index+1] == board[nextRow][nextCol]:\n",
    "                found = found or dfs(nextRow, nextCol, index+1)\n",
    "        board[row][col] = original\n",
    "\n",
    "        return found\n",
    "\n",
    "    ## Main Code\n",
    "    for row in range(rows):\n",
    "        for col in range(cols):\n",
    "            if board[row][col] == word[0]:\n",
    "                found = dfs(row, col, 0)\n",
    "                if found:\n",
    "                    return True\n",
    "    return False\n"
   ]
  },
  {
   "cell_type": "code",
   "execution_count": 41,
   "id": "32199c0e",
   "metadata": {},
   "outputs": [],
   "source": [
    "# DFS with separated `visited` array ---- one for each stack element. \n",
    "def exist(board, word: str) -> bool:\n",
    "    if not word:\n",
    "        return \n",
    "\n",
    "    \"\"\"\n",
    "    DFS starting on a matching entry (==word[0])\n",
    "    Only go to the next matching entry that's not visited & within the board\n",
    "    Don't go back. \n",
    "\n",
    "\n",
    "    Tricky case:\n",
    "    [\n",
    "    [\"A\",\"B\",\"C\",\"E\"],\n",
    "    [\"S\",\"F\",\"E\",\"S\"],\n",
    "    [\"A\",\"D\",\"E\",\"E\"]]\n",
    "\n",
    "    \"ABCESEEEFS\"\n",
    "         ^\n",
    "    At the rightmost \"S\", going down would work, but going left would not, \n",
    "    even though both next moves are \"E\".\n",
    "\n",
    "\n",
    "    \"\"\"\n",
    "    height, width = len(board), len(board[0])\n",
    "\n",
    "    def dfs(rowS, colS):\n",
    "        stack = deque()\n",
    "        stack.append((rowS, colS, 0, set()))   \n",
    "        # row, col, index in word, VISITED only for this path\n",
    "        while stack:\n",
    "            row, col, index, visited = stack.pop()\n",
    "            if index == len(word)-1:\n",
    "                return True\n",
    "            visited.add((row, col))\n",
    "\n",
    "            for nextRow, nextCol in [(row,col+1), (row,col-1), (row+1,col), (row-1,col)]:\n",
    "                # Valid to visit (within the board & not visited)\n",
    "                if 0 <= nextRow < height and 0 <= nextCol < width and (nextRow,nextCol) not in visited:\n",
    "                    # Matching next index? \n",
    "                    if word[index+1] == board[nextRow][nextCol]:\n",
    "                        stack.append((nextRow, nextCol, index+1, visited.copy()))\n",
    "\n",
    "\n",
    "\n",
    "\n",
    "\n",
    "    ## Main code                     \n",
    "    for row in range(height):\n",
    "        for col in range(width):\n",
    "            if board[row][col] == word[0]:\n",
    "                found = dfs(row, col)\n",
    "                if found:\n",
    "                    return True\n",
    "    return False\n",
    "\n",
    "# Takes too long\n",
    "        "
   ]
  },
  {
   "cell_type": "markdown",
   "id": "f9f0e7ad",
   "metadata": {},
   "source": [
    "### Word Search II\n",
    "Given a `board` of chars and a list of strings `words`, return all words on board. "
   ]
  },
  {
   "cell_type": "code",
   "execution_count": null,
   "id": "4ed2d796",
   "metadata": {},
   "outputs": [],
   "source": []
  },
  {
   "cell_type": "code",
   "execution_count": 9,
   "id": "b5e86ef9",
   "metadata": {},
   "outputs": [
    {
     "name": "stdout",
     "output_type": "stream",
     "text": [
      "[['o', 'a', 'a', 'n'],\n",
      " ['e', 't', 'a', 'e'],\n",
      " ['i', 'h', 'k', 'r'],\n",
      " ['i', 'f', 'l', 'v']]\n"
     ]
    }
   ],
   "source": [
    "\n",
    "board = [[\"o\",\"a\",\"a\",\"n\"],[\"e\",\"t\",\"a\",\"e\"],[\"i\",\"h\",\"k\",\"r\"],[\"i\",\"f\",\"l\",\"v\"]]\n",
    "pprint(board)"
   ]
  },
  {
   "cell_type": "code",
   "execution_count": 15,
   "id": "3e5a5b3e",
   "metadata": {},
   "outputs": [
    {
     "data": {
      "text/plain": [
       "16"
      ]
     },
     "execution_count": 15,
     "metadata": {},
     "output_type": "execute_result"
    }
   ],
   "source": [
    "len([char for row in board for char in row])\n"
   ]
  },
  {
   "cell_type": "markdown",
   "id": "5b85876a",
   "metadata": {},
   "source": [
    "### Robot Cleaner\n",
    "https://leetcode.com/problems/robot-room-cleaner/\n",
    "\n",
    "Spiral Backtracking !"
   ]
  },
  {
   "cell_type": "code",
   "execution_count": null,
   "id": "2babef60",
   "metadata": {},
   "outputs": [],
   "source": []
  },
  {
   "cell_type": "code",
   "execution_count": null,
   "id": "d99fcbe3",
   "metadata": {},
   "outputs": [],
   "source": []
  },
  {
   "cell_type": "markdown",
   "id": "1e0cbabe",
   "metadata": {},
   "source": [
    "### N-Queen\n",
    "Backtrack. "
   ]
  },
  {
   "cell_type": "code",
   "execution_count": 76,
   "id": "0e2a70f4",
   "metadata": {},
   "outputs": [
    {
     "name": "stdout",
     "output_type": "stream",
     "text": [
      "N=4\n",
      "2 valid boards: \n",
      "[['.Q..', '...Q', 'Q...', '..Q.'], ['..Q.', 'Q...', '...Q', '.Q..']]\n",
      "\n"
     ]
    }
   ],
   "source": [
    "class NQueen:\n",
    "    DEBUG = False\n",
    "    def totalNQueens(self, n: int) -> int:\n",
    "        '''\n",
    "        Backtrack: Try place a queen at each row at (row,col) and mark all her attacking zones. \n",
    "        Then go try the next row (with backtrack). \n",
    "        \n",
    "        If ^ doesn't work out at (row,col), revert the change and try (row,col+1)\n",
    "        \n",
    "        We'll go down each row, and try the columns. When we reach the bottom row and \n",
    "        placed a queen there, we found one solution.\n",
    "        '''\n",
    "        self.count = 0\n",
    "        self.board = [[set() for _ in range(n)] for _ in range(n)]\n",
    "        self.queenBoard = [['.' for _ in range(n)] for _ in range(n)]\n",
    "#         print(self.queenBoard)\n",
    "        row = 0\n",
    "        \n",
    "        def notUnderAttack(row,col):\n",
    "            cell = self.board[row][col]  # set of queens (from each row) attacking it \n",
    "            return len(cell) == 0\n",
    "        \n",
    "        def placeQueen(row,col):\n",
    "            '''\n",
    "            Place queen at (row,col). Mark all its attackable zone as `row`. \n",
    "            Each queen currently on board can be identified by her row number.\n",
    "            '''\n",
    "            self.queenBoard[row][col] = 'Q'\n",
    "            \n",
    "            # Add the (row)-th queen as an attacker: \n",
    "            # Horizontal\n",
    "            for attackCol in range(n):\n",
    "                self.board[row][attackCol].add(row)\n",
    "            # Vertical\n",
    "            for attackRow in range(n):\n",
    "                self.board[attackRow][col].add(row)\n",
    "            # Up V\n",
    "            for d in range(1, row+1):\n",
    "                if col - d >= 0: # stay in the width\n",
    "                    self.board[row-d][col-d].add(row)\n",
    "                if col + d < n:\n",
    "                    self.board[row-d][col+d].add(row)\n",
    "            # Down V\n",
    "            for d in range(1, n-row):\n",
    "                if col - d >= 0:\n",
    "                    self.board[row+d][col-d].add(row)\n",
    "                if col + d < n:\n",
    "                    self.board[row+d][col+d].add(row)\n",
    "            \n",
    "            if self.DEBUG:\n",
    "                print(f\"Placed queen at ({row},{col})\")\n",
    "                pprint(self.board)\n",
    "            \n",
    "        def removeQueen(row,col):\n",
    "            '''Remove the queen here at (row,col).\n",
    "            The queen is identified by her row number.\n",
    "            '''\n",
    "            self.queenBoard[row][col] = '.'\n",
    "            \n",
    "            # Remove the (row)-th queen as an attacker: \n",
    "            # !! Don't remove too many times at (row,col)\n",
    "            # Horizontal\n",
    "            for attackCol in range(n):\n",
    "                self.board[row][attackCol].remove(row)\n",
    "            # Vertical\n",
    "            for attackRow in range(n):\n",
    "                self.board[attackRow][col].discard(row)\n",
    "            # Up V\n",
    "            for d in range(1, row+1):\n",
    "                if col - d >= 0: # stay in the width\n",
    "                    self.board[row-d][col-d].discard(row)\n",
    "                if col + d < n:\n",
    "                    self.board[row-d][col+d].discard(row)\n",
    "            # Down V\n",
    "            for d in range(1, n-row):\n",
    "                if col - d >= 0:\n",
    "                    self.board[row+d][col-d].discard(row)\n",
    "                if col + d < n:\n",
    "                    self.board[row+d][col+d].discard(row)\n",
    "\n",
    "            if self.DEBUG:\n",
    "                print(f\"Removed queen at ({row},{col})\")\n",
    "                pprint(self.board)\n",
    "                \n",
    "        def backtrack(row):\n",
    "            '''For each row, must place a queen at (row,col) for some col. \n",
    "            Backtrack if doesnt work out'''\n",
    "            for col in range(n):\n",
    "                if notUnderAttack(row,col):  # can place queen\n",
    "                    # Base Case: reaches bottom row => Found answer\n",
    "                    if row == n-1:  \n",
    "                        self.count += 1\n",
    "                        self.queenBoard[row][col] = 'Q'\n",
    "                        self.allValidBoards.append([''.join(boardRow) for boardRow in self.queenBoard])\n",
    "                        self.queenBoard[row][col] = '.'\n",
    "                        return\n",
    "                    \n",
    "                    # Place the queen here\n",
    "                    placeQueen(row,col)\n",
    "                    \n",
    "                    # Backtrack\n",
    "                    backtrack(row+1)\n",
    "\n",
    "                    # Revert the change and try other column\n",
    "                    removeQueen(row,col)\n",
    "                \n",
    "            # If I cannot place a queen at the current row => Dead end. \n",
    "            # Return and backtrack to try other plans. \n",
    "        \n",
    "        ## Main Code\n",
    "        self.allValidBoards = []\n",
    "        backtrack(0)\n",
    "        return self.count, self.allValidBoards\n",
    "\n",
    "s = NQueen()\n",
    "for n in range(4,5):\n",
    "    print(f\"N={n}\")\n",
    "    count, allValid = s.totalNQueens(n)\n",
    "    print(f\"{count} valid boards: \")\n",
    "    pprint(allValid)\n",
    "    print()\n",
    "    \n",
    "\n",
    "    "
   ]
  },
  {
   "cell_type": "markdown",
   "id": "50782943",
   "metadata": {},
   "source": [
    "Time Complexity: $O(N^N) \\times 4N$\n",
    "                \n",
    "                      ^place and remove queen\n",
    "\n",
    "Space: $O(N^N)$\n",
    "\n",
    "Some optimization in setting `placeQueen()`, `removeQueen()`, and `isUnderAttack()`:\n",
    "\n",
    "(originally they were $O(4N)$, $O(4N)$, and $O(1)$, respectively."
   ]
  },
  {
   "cell_type": "markdown",
   "id": "41d454fc",
   "metadata": {},
   "source": [
    "To **Place Queen** at `(row,col)`:\n",
    "- Row used: After placing the queen, we move down to the next row. Good\n",
    "- Col used: Record this queen's `col` in a set `cols`. \n",
    "\n",
    ">  Cool stuffs for diagonals 😱:\n",
    "> - Every entry at `(row,col)` in the same main-diagonal has the same `row-col`\n",
    "> - Every entry at `(row,col)` in the same anti-diagonal has the same `row+col`\n",
    "- Main diagonal used: Record this queen's `row-col` in a set `mainDiagonals`.\n",
    "- Anti diagonal used: Record this queen's `row+col` in a set `antiDiagonals`.\n",
    "\n",
    "\n",
    "To **Remove Queen** at `(row,col)`：\n",
    "- Row: Nothing to do. Just return from this function and backtrack to previous row.\n",
    "- Col: remove `col` from `cols`.\n",
    "- Main diagonal: Remove `row-col` from `mainDiagonals`.\n",
    "- Anti diagonal: Remove `row+col` from `antiDiagonals`.\n",
    "\n",
    "Check **isUnderAttack** at `(row,col)`:\n",
    "- Row: it's a new row so we're good.\n",
    "- Col: check if `col` is in `cols`\n",
    "- Main diagonal: check if `row-col` is in `mainDiagonals`.\n",
    "- Anti diagonal: check if `row+col` is in `mainDiagonals`.\n",
    "\n",
    "Runtime for all 3 above actions is constant time $O(4)$!\n",
    "\n"
   ]
  },
  {
   "cell_type": "code",
   "execution_count": null,
   "id": "a564e5a1",
   "metadata": {},
   "outputs": [],
   "source": [
    "\n"
   ]
  },
  {
   "cell_type": "markdown",
   "id": "13feefcf",
   "metadata": {},
   "source": [
    "## Combination Sum problems\n",
    "\n",
    "combination 1,2,3...  Closest combination sum."
   ]
  },
  {
   "cell_type": "code",
   "execution_count": 84,
   "id": "e8b5526f",
   "metadata": {},
   "outputs": [
    {
     "data": {
      "text/plain": [
       "[7, 8, 9]"
      ]
     },
     "execution_count": 84,
     "metadata": {},
     "output_type": "execute_result"
    }
   ],
   "source": [
    "list(range(1,10))[-3:]"
   ]
  },
  {
   "cell_type": "code",
   "execution_count": null,
   "id": "65b9447d",
   "metadata": {},
   "outputs": [],
   "source": []
  }
 ],
 "metadata": {
  "kernelspec": {
   "display_name": "Python 3 (ipykernel)",
   "language": "python",
   "name": "python3"
  },
  "language_info": {
   "codemirror_mode": {
    "name": "ipython",
    "version": 3
   },
   "file_extension": ".py",
   "mimetype": "text/x-python",
   "name": "python",
   "nbconvert_exporter": "python",
   "pygments_lexer": "ipython3",
   "version": "3.8.5"
  }
 },
 "nbformat": 4,
 "nbformat_minor": 5
}
