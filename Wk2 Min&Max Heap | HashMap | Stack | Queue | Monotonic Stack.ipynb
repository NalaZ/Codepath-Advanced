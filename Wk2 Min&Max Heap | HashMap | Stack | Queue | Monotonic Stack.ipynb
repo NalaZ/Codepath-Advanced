{
 "cells": [
  {
   "cell_type": "code",
   "execution_count": 7,
   "id": "75695c04",
   "metadata": {},
   "outputs": [],
   "source": [
    "from typing import List"
   ]
  },
  {
   "cell_type": "markdown",
   "id": "9dd5b36f",
   "metadata": {},
   "source": [
    "# Heap\n",
    "Python documentation for [heapq](https://docs.python.org/3/library/heapq.html).\n",
    "\n",
    "#### Min or Max Heap?\n",
    "Python `heapq` uses minHeap. \n",
    "For maxHeap, invert comparisons using\n",
    "- negate values (eg. uses `-distance` instead of `distance`)\n",
    "- wrapper class with `__lt__()` method\n",
    "\n",
    "Tuple comparisons: break tie with subsequent entries.\n",
    "\n",
    " \n"
   ]
  },
  {
   "cell_type": "markdown",
   "id": "f19eadd1",
   "metadata": {},
   "source": [
    "### K Closest Points to Origin\n",
    "\n",
    "Use a maxHeap of size `K` to hold the K minimum-distance points. The farther points are upper in the heap and gets popped off. The K remaining points in heap are the K closest points.\n",
    "\n",
    "When heap reaches `K` elements: decide whether or not to **replace `root` with the new element then sift down** \n",
    "\n",
    "https://leetcode.com/problems/k-closest-points-to-origin/"
   ]
  },
  {
   "cell_type": "markdown",
   "id": "bab62a83",
   "metadata": {},
   "source": [
    "### Top K Frequent Words (uses lexicographical order to break tie)\n",
    "\n",
    "Use a minHeap of size `K` to hold the K most frequent words. The heap's root is the K-th most frequent word (the least frequent one among the K-th most frequent words). \n",
    "\n",
    "When heap reaches `K` words: \n",
    "- If the new word is less frequent than the `root`  --> new word is less frequent than all the K words in heap --> ignore the new word.\n",
    "- Else if the new word is more frequent tha `root` --> replace `root` with the new word, then siftdown. (call `heapq.heapreplace(arr, newWord)`\n",
    "\n",
    "Use a wrapper class and implement `__lt__()` for more comprehensive comparsion.\n",
    "\n",
    "https://leetcode.com/problems/top-k-frequent-words/"
   ]
  },
  {
   "cell_type": "markdown",
   "id": "f03e063b",
   "metadata": {},
   "source": [
    "### The Skyline Problem\n",
    "https://leetcode.com/problems/the-skyline-problem/\n",
    "\n",
    "Process the walls of each building.\n",
    "(only the walls matter since every skyline point's x-coordinate is \n",
    "determined by some wall's x-coordinate)\n",
    "        \n",
    "    wall: (x, -height)\n",
    "    Push wall's height into a maxheap (so negative height).\n",
    "    -> Sorted by x-coordinates.  \n",
    "    -> If same x-coordinates, the 'starting wall comes first\n",
    "    -> If both are starting walls, the taller one comes first\n",
    "    -> If both are ending walls, the shorter one comes first\n",
    "    => Just use -height for starting walls. Use height for ending walls.\n",
    "\n",
    "    Kepp track of `maxHeight` so far (initilaized as 0)\n",
    "\n",
    "    Push \"starting wall\"'s height into maxHeap of heights\n",
    "        - If the max height updates:\n",
    "            1. Skyline point found.\n",
    "        - Else:\n",
    "            1. Not a skyline point.\n",
    "            2. Keep its height in the heap.\n",
    "\n",
    "    Remove \"ending wall\"'s height from the maxHeap\n",
    "        - If the max height updates (shrinks)\n",
    "            1. x <-- get the x coordinate of this ending wall\n",
    "            2. h <-- the new max height left.\n",
    "            3. Record (x,h) as a skyline point\n",
    "        - Else:\n",
    "            1. Not a skyline point\n"
   ]
  },
  {
   "cell_type": "code",
   "execution_count": 3,
   "id": "f5846e39",
   "metadata": {},
   "outputs": [],
   "source": [
    "## Heap O(n^2)\n",
    "def getSkyline(buildings):\n",
    "\n",
    "    walls = []  # each wall is (x, -height)\n",
    "    for left, right, height in buildings:\n",
    "        walls.append((left, -height))\n",
    "        walls.append((right, height))\n",
    "\n",
    "    walls.sort()    # n log n\n",
    "\n",
    "    skyline = []\n",
    "\n",
    "    maxHeight = 0\n",
    "    heap = [0]   # max heap of the walls' heights\n",
    "    for x, height in walls:  #O(n)\n",
    "        ## Starting wall\n",
    "        if height < 0:\n",
    "            # Push its height. (Want: MaxHeap. Use: -height)\n",
    "            heapq.heappush(heap, height)\n",
    "            # If this updates the maxHeight, record skyline point\n",
    "            if maxHeight != heap[0]:    # taller building found\n",
    "                skyline.append([x, -height])\n",
    "                maxHeight = heap[0]\n",
    "            # Else, the start of this building is covered by another\n",
    "            # building that already started.\n",
    "\n",
    "        ## Ending wall\n",
    "        elif height > 0:\n",
    "            # Remove its height from the maxheap\n",
    "            heap.remove(-height)\n",
    "            heapq.heapify(heap)\n",
    "            # If this changes the maxHeight, then we're done with some \n",
    "            # previous taller building, and move on to the next shorter one\n",
    "            if maxHeight != heap[0]:\n",
    "                skyline.append([x, -heap[0]])\n",
    "            maxHeight = heap[0]\n",
    "\n",
    "    return skyline\n",
    "    \"\"\"\n",
    "    walls = [*(2,start,-10)*, *(3,start,-15)*, *(5,start,12)*, *\n",
    "    *(7,end,-15)*, *(9,end,-10)*, *(12,end,12)]\n",
    "\n",
    "    maxHeight = -12\n",
    "    heightsHeap = [0]\n",
    "\n",
    "    skyline points: [2,10], [3,15], [7,12], [12,0]\n",
    "\n",
    "\n",
    "    Time: O(n^2)\n",
    "    Space: O(n)\n",
    "    \"\"\"    "
   ]
  },
  {
   "cell_type": "code",
   "execution_count": null,
   "id": "4f3d8c6a",
   "metadata": {},
   "outputs": [],
   "source": [
    "## Divide and Conquer (N log N)\n",
    "def getSkylineDivideAndConquer(buildings):\n",
    "    \n",
    "    "
   ]
  },
  {
   "cell_type": "markdown",
   "id": "1d268742",
   "metadata": {},
   "source": [
    "# Stack & Monotonic Stack\n",
    "\n",
    "Better use the doubly linked list implementation: \n",
    "`stack = collections.deque()`\n",
    "\n",
    "pop() | append(x) | peek stack[-1]\n"
   ]
  },
  {
   "cell_type": "markdown",
   "id": "676ba216",
   "metadata": {},
   "source": [
    "### Next Greater Element\n",
    "https://leetcode.com/problems/next-greater-element-i/\n",
    "\n",
    "Similar: [Buildings with Oceanview](https://leetcode.com/problems/buildings-with-an-ocean-view/)\n",
    "\n",
    "### Daily Temperature\n",
    "Indices matter\n"
   ]
  },
  {
   "cell_type": "markdown",
   "id": "6f152db3",
   "metadata": {},
   "source": [
    "### Trapping Rain Water\n",
    "Given `n` non-negative integers representing an elevation map where the width of each bar is `1`, compute how much water it can trap after raining.\n",
    "\n"
   ]
  },
  {
   "cell_type": "code",
   "execution_count": null,
   "id": "b5b6ae25",
   "metadata": {},
   "outputs": [],
   "source": []
  },
  {
   "cell_type": "markdown",
   "id": "62e53985",
   "metadata": {},
   "source": [
    "### 接雨水\n",
    "Also monotonic stack? "
   ]
  },
  {
   "cell_type": "markdown",
   "id": "21702c19",
   "metadata": {},
   "source": [
    "### Brick Wall\n",
    "- Cumulative array\n",
    "- count the votes for each \"crossable position\" among all rows.\n",
    "- Hashtable find max value."
   ]
  },
  {
   "cell_type": "markdown",
   "id": "0eb01d0f",
   "metadata": {},
   "source": [
    "### Find celebrity\n",
    "Def. celebrity: everybody knows him, but he knows nobody.\n",
    "(---knows---> is a 1-way arrow)\n",
    "\n",
    "calling `knows(A,B)` determines that only one of them could be the celebrity."
   ]
  },
  {
   "cell_type": "code",
   "execution_count": null,
   "id": "1e09c027",
   "metadata": {},
   "outputs": [],
   "source": [
    "\n",
    "\n"
   ]
  },
  {
   "cell_type": "markdown",
   "id": "5deb1588",
   "metadata": {},
   "source": [
    "## HashMap\n",
    "\n",
    "### Contains Almost Duplicate III\n",
    "\n",
    "- Sliding window of size t+1\n",
    "- Bucket width `w = t+1`\n",
    "- Divide each element by `w` => The bucket id \n",
    "- Place each element `num` in `bucket[bucket_id]`\n",
    "- Check for an element's almost duplicate by looking at buckets at `[bucket_id]`, `[bucket_id-1]` and check if the numbers differ within `k`, and `[bucket_id+1]` and check if the numbers differ within `k`.\n",
    "\n",
    "(see Wk7 -> bucket sort for more)"
   ]
  },
  {
   "cell_type": "code",
   "execution_count": 8,
   "id": "4cd8bedb",
   "metadata": {},
   "outputs": [],
   "source": [
    "def containsNearbyAlmostDuplicate(nums: List[int], k: int, t: int) -> bool:\n",
    "    '''\n",
    "    Buckets of width t+1\n",
    "    [+] Elements in the same bucket must be \"almost duplicates\"\n",
    "    [!] Possible to have \"almost duplicate\" in nearby buckets \n",
    "    (bucket(x-1), bucket(x+1))\n",
    "\n",
    "    t = 3\n",
    "    bucket_id:  num // (t+1) \n",
    "    *      \n",
    "                *\n",
    "    0,1,2,3   4,5,6,7  8,9,10,11\n",
    "    bucket0   bucket1  bucket2\n",
    "\n",
    "    Sliding window of size k+1\n",
    "\n",
    "    k = 2\n",
    "    1 5 9 1 5 9\n",
    "          ^  \n",
    "remove  ^\n",
    "    0 1 2 3 4\n",
    "    '''\n",
    "\n",
    "    buckets = {}    # {id: number from nums}\n",
    "\n",
    "\n",
    "    for i, num in enumerate(nums):\n",
    "        bucket_id = num // (t+1) \n",
    "\n",
    "        # Check if num is already in this bucket, or the left or right bucket. \n",
    "        if bucket_id in buckets:\n",
    "            return True\n",
    "        if (bucket_id - 1 in buckets) and abs(num - buckets[bucket_id-1]) <= t:\n",
    "            return True\n",
    "        if (bucket_id + 1 in buckets) and abs(num - buckets[bucket_id+1]) <= t:\n",
    "            return True\n",
    "\n",
    "        # Add num to the correct bucket\n",
    "        buckets[bucket_id] = num\n",
    "\n",
    "        # Remove the window's leftmost element from buckets \n",
    "        # before the whole window shifts rightward\n",
    "        if i-k >= 0:\n",
    "            to_remove = nums[i-k]\n",
    "            bucket_id_to_remove = to_remove // (t+1)\n",
    "            buckets.pop(bucket_id_to_remove)\n",
    "\n",
    "    return False\n",
    "\n",
    "    '''\n",
    "    Time: O(N)  where N is the length of nums.\n",
    "    Space: O(N)\n",
    "    '''"
   ]
  },
  {
   "cell_type": "code",
   "execution_count": null,
   "id": "5bbfa38c",
   "metadata": {},
   "outputs": [],
   "source": []
  }
 ],
 "metadata": {
  "kernelspec": {
   "display_name": "Python 3 (ipykernel)",
   "language": "python",
   "name": "python3"
  },
  "language_info": {
   "codemirror_mode": {
    "name": "ipython",
    "version": 3
   },
   "file_extension": ".py",
   "mimetype": "text/x-python",
   "name": "python",
   "nbconvert_exporter": "python",
   "pygments_lexer": "ipython3",
   "version": "3.8.5"
  }
 },
 "nbformat": 4,
 "nbformat_minor": 5
}
