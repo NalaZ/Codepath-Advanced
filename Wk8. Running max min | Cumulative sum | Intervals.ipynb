{
 "cells": [
  {
   "cell_type": "markdown",
   "id": "193e015e",
   "metadata": {},
   "source": [
    "Running max min\n",
    "- Trapping rain water\n",
    "- Max chunks to sorted"
   ]
  },
  {
   "cell_type": "markdown",
   "id": "699c8a82",
   "metadata": {},
   "source": [
    "Cumulative sum\n",
    "- matrix\n"
   ]
  },
  {
   "cell_type": "code",
   "execution_count": null,
   "id": "095aedbb",
   "metadata": {},
   "outputs": [],
   "source": []
  },
  {
   "cell_type": "markdown",
   "id": "44a41980",
   "metadata": {},
   "source": []
  },
  {
   "cell_type": "code",
   "execution_count": null,
   "id": "59514724",
   "metadata": {},
   "outputs": [],
   "source": []
  }
 ],
 "metadata": {
  "kernelspec": {
   "display_name": "Python 3 (ipykernel)",
   "language": "python",
   "name": "python3"
  },
  "language_info": {
   "codemirror_mode": {
    "name": "ipython",
    "version": 3
   },
   "file_extension": ".py",
   "mimetype": "text/x-python",
   "name": "python",
   "nbconvert_exporter": "python",
   "pygments_lexer": "ipython3",
   "version": "3.8.5"
  }
 },
 "nbformat": 4,
 "nbformat_minor": 5
}
