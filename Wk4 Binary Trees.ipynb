{
 "cells": [
  {
   "cell_type": "markdown",
   "id": "c2b03a3b",
   "metadata": {},
   "source": [
    "Min Depth of tree \n",
    "- use BFS (better than DFS), it visits only the nodes necessary to determine the minimum depth.\n",
    "\n",
    "Binary Tree Pruning.\n",
    "- Post order\n",
    "\n",
    "\n",
    "\n"
   ]
  },
  {
   "cell_type": "code",
   "execution_count": 15,
   "id": "469b660f",
   "metadata": {},
   "outputs": [],
   "source": [
    "class TreeNode():\n",
    "    def __init__(self, val=0, left=None, right=None):\n",
    "        self.val = val\n",
    "        self.left = left\n",
    "        self.right = right"
   ]
  },
  {
   "cell_type": "markdown",
   "id": "f34b2511",
   "metadata": {},
   "source": [
    "## Tree Serialization\n",
    "(preorder traversal)\n",
    "- Tree -> String  `root(leftSubtree)(rightSubtree)`\n",
    "- String -> Tree  ??\n",
    "- **Find duplicate subtrees**\n"
   ]
  },
  {
   "cell_type": "code",
   "execution_count": 14,
   "id": "629ad1ab",
   "metadata": {},
   "outputs": [
    {
     "data": {
      "text/plain": [
       "-32600"
      ]
     },
     "execution_count": 14,
     "metadata": {},
     "output_type": "execute_result"
    }
   ],
   "source": [
    "def getNum(s):\n",
    "    \"\"\"\n",
    "    Get the first number starting at s[index:]\n",
    "    Return the number. Updated index\n",
    "    \"\"\"\n",
    "    index = 0\n",
    "    \n",
    "    isNeg = False\n",
    "    if s[index] == '-':\n",
    "        isNeg = True\n",
    "        index += 1\n",
    "    num = 0\n",
    "    while s[index] not in {'(', ')'}:\n",
    "        digit = int(s[index])\n",
    "        num = num*10 + digit\n",
    "        index += 1\n",
    "    return -num if isNeg else num\n",
    "\n",
    "getNum('-32600)')\n",
    "\n"
   ]
  },
  {
   "cell_type": "code",
   "execution_count": 19,
   "id": "378b3915",
   "metadata": {},
   "outputs": [
    {
     "name": "stdout",
     "output_type": "stream",
     "text": [
      "['1', '2', '*', '*', '3', '4', '*', '*', '5', '*', '*']\n"
     ]
    }
   ],
   "source": [
    "def serialize(root):\n",
    "    \"\"\"Encodes a tree to a single string.\n",
    "\n",
    "    :type root: TreeNode\n",
    "    :rtype: str\n",
    "    \"\"\"\n",
    "    stringBuffer = []\n",
    "    from collections import deque\n",
    "    stack = deque()\n",
    "    stack.append(root)\n",
    "    while stack:\n",
    "        node = stack.pop()\n",
    "        if node:\n",
    "            # Record. \n",
    "            stringBuffer.append(str(node.val))\n",
    "            # Push left and right onto stack (even if they're null)\n",
    "            stack.append(node.right)\n",
    "            stack.append(node.left)\n",
    "        else:\n",
    "            # Just Record.\n",
    "            stringBuffer.append(\"*\")\n",
    "\n",
    "    return stringBuffer\n",
    "    \n",
    "\n",
    "r = TreeNode(1, TreeNode(2,), TreeNode(3, left=TreeNode(4), right=TreeNode(5)))\n",
    "code = serialize(r)\n",
    "\n",
    "def deserialize(data):\n",
    "    \"\"\"Decodes your encoded data to tree.\n",
    "\n",
    "    :type data: str\n",
    "    :rtype: TreeNode\n",
    "    \"\"\"\n",
    "    preorder = iter(data.split()) # transform to the list's iterator \n",
    "    def helper():\n",
    "        rootVal = next(preorder)\n",
    "        if rootVal == \"*\":\n",
    "            return None\n",
    "        \n",
    "        # Now, the current root must not be None\n",
    "        root = TreeNode(int(rootVal))\n",
    "        root.left = helper()\n",
    "        root.right = helper()\n",
    "        return root\n",
    "            \n",
    "    return helper()"
   ]
  },
  {
   "cell_type": "markdown",
   "id": "98d82b08",
   "metadata": {},
   "source": [
    "### Inorder Traversal\n",
    "- Iterative\n",
    "- Convert BST to sorted Doubly Linked List inplace.\n"
   ]
  },
  {
   "cell_type": "code",
   "execution_count": null,
   "id": "d0b9dda8",
   "metadata": {},
   "outputs": [],
   "source": []
  }
 ],
 "metadata": {
  "kernelspec": {
   "display_name": "Python 3 (ipykernel)",
   "language": "python",
   "name": "python3"
  },
  "language_info": {
   "codemirror_mode": {
    "name": "ipython",
    "version": 3
   },
   "file_extension": ".py",
   "mimetype": "text/x-python",
   "name": "python",
   "nbconvert_exporter": "python",
   "pygments_lexer": "ipython3",
   "version": "3.8.5"
  }
 },
 "nbformat": 4,
 "nbformat_minor": 5
}
