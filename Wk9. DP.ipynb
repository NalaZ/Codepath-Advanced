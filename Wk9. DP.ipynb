{
 "cells": [
  {
   "cell_type": "code",
   "execution_count": 2,
   "id": "c55897ab",
   "metadata": {},
   "outputs": [],
   "source": [
    "from typing import List\n",
    "from functools import lru_cache"
   ]
  },
  {
   "cell_type": "markdown",
   "id": "cfe4d5b0",
   "metadata": {},
   "source": [
    "# Dynamic Programming\n",
    "Use the solution to smaller subproblems to solve the problem. \n",
    "\n",
    "**State**\n",
    "- what's changing at each step\n",
    "- how does the state transition\n",
    "\n",
    "**Top down DP**\n",
    "\n",
    "    \n",
    "    def dp(state):\n",
    "        # check if state is in memo\n",
    "        \n",
    "        # Base case\n",
    "        \n",
    "        # solve dp(state) using dp(other states...)\n",
    "\n",
    "\n",
    "## Knapsack\n",
    "\n",
    "\n"
   ]
  },
  {
   "cell_type": "markdown",
   "id": "9763094a",
   "metadata": {},
   "source": [
    "### 0-1 Knapsack"
   ]
  },
  {
   "cell_type": "code",
   "execution_count": null,
   "id": "ea7ffff0",
   "metadata": {},
   "outputs": [],
   "source": []
  },
  {
   "cell_type": "code",
   "execution_count": null,
   "id": "d938d465",
   "metadata": {},
   "outputs": [],
   "source": []
  },
  {
   "cell_type": "markdown",
   "id": "c0ccd938",
   "metadata": {},
   "source": [
    "### Burst Ballons\n",
    "You are given n balloons, indexed from 0 to n - 1. Each balloon is painted with a number on it represented by an array nums. You are asked to burst all the balloons.\n",
    "\n",
    "If you burst the ith balloon, you will get nums[i - 1] * nums[i] * nums[i + 1] coins. If i - 1 or i + 1 goes out of bounds of the array, then treat it as if there is a balloon with a 1 painted on it.\n",
    "\n",
    "Return the maximum coins you can collect by bursting the balloons wisely.\n",
    "\n",
    "> State of nums changes each time we pop. Track it using dp(nums).\n",
    "\n",
    "> We wanna maximize coins collected. So let dp(nums) return the maximum coins\n",
    "\n",
    "> we can get in the current state of nums."
   ]
  },
  {
   "cell_type": "code",
   "execution_count": 12,
   "id": "ffc1db49",
   "metadata": {},
   "outputs": [
    {
     "data": {
      "text/plain": [
       "3830"
      ]
     },
     "execution_count": 12,
     "metadata": {},
     "output_type": "execute_result"
    }
   ],
   "source": [
    "class PopBallons:\n",
    "    def maxCoinsBruteForce(self, nums: List[int]) -> int:\n",
    "        memo = {}   # {state of nums: max coins we can get from here}\n",
    "        def dp(nums):\n",
    "            # Check if nums is in memo.\n",
    "            state = str(nums)\n",
    "            if state in memo:\n",
    "                return memo[state]\n",
    "            \n",
    "            # Base case\n",
    "            if len(nums) == 3:\n",
    "                return nums[1]\n",
    "            \n",
    "            # solve dp(nums) with the helps of other dp(...nums...)\n",
    "            maxCoins = 0\n",
    "            for i in range(1, len(nums)-1):\n",
    "                # pop i\n",
    "                coins = nums[i-1] * nums[i] * nums[i+1]\n",
    "                popped = nums.pop(i)\n",
    "                \n",
    "                # after this pop, what are the \"optimal\" future popps gonna generate?\n",
    "                futureCoins = dp(nums)\n",
    "                maxCoins = max(maxCoins, coins + futureCoins)\n",
    "                \n",
    "                nums.insert(i, popped)\n",
    "            \n",
    "            memo[state] = maxCoins\n",
    "            return maxCoins\n",
    "            \n",
    "            \n",
    "        return dp([1] + nums + [1])\n",
    "    \n",
    "    def maxCoins(self, nums: List[int]) -> int:\n",
    "        '''\n",
    "        Once we pop ballon i, the rest of the ballons can be divided into left and right sections. Solve these sections separately and combine their future profits with the profit from ballon i. \n",
    "        \n",
    "        However, above doesn't work. Since popping i affects i-1's right!!!\n",
    "        \n",
    "        Instead, think in reverse. Pop nums[left]...nums[i-1] and \n",
    "        nums[i+1]...nums[right] first (inclusive indices) and get their \n",
    "        futureCoins. \n",
    "        => Then pop nums[i] with new neighbor ballons nums[left-1] and nums[right+1]\n",
    "        '''\n",
    "        nums = [1] + nums + [1]\n",
    "        \n",
    "        @lru_cache\n",
    "        def dp(left, right):\n",
    "\n",
    "            # Base case\n",
    "            if left > right:\n",
    "                return 0\n",
    "            \n",
    "            # solve dp(nums) with the helps of other dp(...nums...)\n",
    "            # [!] Pop nums[i] after popping nums[left:i] and nums[i+1:right+1]\n",
    "            maxCoins = 0\n",
    "            for i in range(left, right+1):\n",
    "                # Pop ballons to the left & right of i first.\n",
    "                futureCoins = dp(left, i-1) + dp(i+1, right)\n",
    "                \n",
    "                coins = nums[left-1] * nums[i] * nums[right+1]\n",
    "                \n",
    "                maxCoins = max(maxCoins, coins+futureCoins)\n",
    "                \n",
    "            \n",
    "            return maxCoins\n",
    "            \n",
    "        return dp(1, len(nums)-2)\n",
    "    \n",
    "b = PopBallons()\n",
    "b.maxCoins([8,2,6,8,9,8,1,4,1,5,3,0,7,7,0,4,2,2,5,5])"
   ]
  },
  {
   "cell_type": "code",
   "execution_count": null,
   "id": "bd89f3df",
   "metadata": {},
   "outputs": [],
   "source": []
  },
  {
   "cell_type": "markdown",
   "id": "3ac80a40",
   "metadata": {},
   "source": [
    "### Decode Ways\n",
    "\n"
   ]
  },
  {
   "cell_type": "code",
   "execution_count": 4,
   "id": "16033882",
   "metadata": {},
   "outputs": [],
   "source": [
    "class DecodeWays:\n",
    "    def numDecodings(self, s: str) -> int:\n",
    "        '''\n",
    "        Take off 1 or 2 chars. Recursion on the rest of the string. \n",
    "        Each time we finish the whole string, count++, backtrack() and put the taken chars back.\n",
    "        \n",
    "        F(s[index:]) = (curr not '0') * F(s[index+1:]) + (s[index:index+2] is valid) *F(s[index+2:])\n",
    "        '''\n",
    "        # Invald: starts w/ 0\n",
    "        if s[0] == '0':\n",
    "            return 0\n",
    "        \n",
    "        memo = [None]*len(s)\n",
    "        \n",
    "        def backtrack(index):\n",
    "            '''Number of ways to decode s[index:]'''\n",
    "            # Base case\n",
    "            if index >= len(s):\n",
    "                return 1\n",
    "            \n",
    "            # Invalid case\n",
    "            if s[index] == '0':\n",
    "                return 0\n",
    "            \n",
    "            # MEMO!\n",
    "            if memo[index]:\n",
    "                return memo[index]\n",
    "            \n",
    "            # try decode the first one/two chars at startIndex, then\n",
    "            # recursively carry out the decoding on the rest of the string.\n",
    "            \n",
    "            # take 1 off (guaranteed not 0)\n",
    "            count = backtrack(index+1)\n",
    "\n",
    "            # take 2 off, if decodable\n",
    "            if (index+1 < len(s)) and (s[index], s[index+1]) <= ('2','6'):\n",
    "                count += backtrack(index+2)\n",
    "\n",
    "            memo[index] = count\n",
    "            return count\n",
    "        \n",
    "        return backtrack(0)"
   ]
  },
  {
   "cell_type": "code",
   "execution_count": null,
   "id": "cd0e92b5",
   "metadata": {},
   "outputs": [],
   "source": []
  },
  {
   "cell_type": "markdown",
   "id": "1ae0b545",
   "metadata": {},
   "source": [
    "# Linear DPs\n",
    "Not so much like other DPs. \n",
    "\n",
    "### Buy and Sell Stocks 2\n",
    "\n"
   ]
  },
  {
   "cell_type": "markdown",
   "id": "5f304c42",
   "metadata": {},
   "source": [
    "### Maximum Subarray\n",
    "\n",
    "### Maximum Product Subarray\n",
    "- 0's are separators. Restart `product` each time we hit a 0.\n",
    "- The inputs are integers. The more nums we multiplied, the bigger the (absolute val) the result. \n",
    "- If there are even many negative integers, one pass is good.\n",
    "- If there are odd any negative integers, \n",
    "    \n",
    "        9, -1, -2, -3, 9\n",
    "Must exclude exactly one of them. Do a pass from left->right. Another from right->left. "
   ]
  },
  {
   "cell_type": "code",
   "execution_count": 3,
   "id": "0b817cc6",
   "metadata": {},
   "outputs": [],
   "source": [
    "class MaxProductSubarray:\n",
    "    def maxProduct(self, nums: List[int]) -> int:\n",
    "        '''\n",
    "        \n",
    "        9 -1 0 -2 -3 9\n",
    "                     ^\n",
    "        \n",
    "        best = 9\n",
    "        product = 6*9= 54\n",
    "        '''\n",
    "        best = float('-inf')     # best product\n",
    "        product = 1   # current product\n",
    "        \n",
    "        for num in nums:\n",
    "            product *= num\n",
    "            \n",
    "            if num == 0:\n",
    "                best = max(best, 0)\n",
    "                product = 1   # only for later iterations\n",
    "                continue\n",
    "            \n",
    "            best = max(best, product)\n",
    "            \n",
    "        product = 1    \n",
    "        for num in nums[-1::-1]:\n",
    "            product *= num\n",
    "            \n",
    "            if num == 0:\n",
    "                product = 1\n",
    "                continue\n",
    "            \n",
    "            best = max(best, product)\n",
    "        \n",
    "        return best"
   ]
  },
  {
   "cell_type": "code",
   "execution_count": null,
   "id": "78a9a491",
   "metadata": {},
   "outputs": [],
   "source": []
  }
 ],
 "metadata": {
  "kernelspec": {
   "display_name": "Python 3 (ipykernel)",
   "language": "python",
   "name": "python3"
  },
  "language_info": {
   "codemirror_mode": {
    "name": "ipython",
    "version": 3
   },
   "file_extension": ".py",
   "mimetype": "text/x-python",
   "name": "python",
   "nbconvert_exporter": "python",
   "pygments_lexer": "ipython3",
   "version": "3.8.5"
  },
  "toc": {
   "base_numbering": 1,
   "nav_menu": {},
   "number_sections": true,
   "sideBar": true,
   "skip_h1_title": false,
   "title_cell": "Table of Contents",
   "title_sidebar": "Contents",
   "toc_cell": false,
   "toc_position": {},
   "toc_section_display": true,
   "toc_window_display": false
  }
 },
 "nbformat": 4,
 "nbformat_minor": 5
}
