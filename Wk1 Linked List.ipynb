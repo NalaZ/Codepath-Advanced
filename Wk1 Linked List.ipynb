{
 "cells": [
  {
   "cell_type": "markdown",
   "id": "6f242959",
   "metadata": {},
   "source": [
    "Reverse nodes in Pairs"
   ]
  },
  {
   "cell_type": "markdown",
   "id": "56d20abf",
   "metadata": {},
   "source": [
    "Reverse k nodes in groups"
   ]
  }
 ],
 "metadata": {
  "kernelspec": {
   "display_name": "Python 3 (ipykernel)",
   "language": "python",
   "name": "python3"
  },
  "language_info": {
   "codemirror_mode": {
    "name": "ipython",
    "version": 3
   },
   "file_extension": ".py",
   "mimetype": "text/x-python",
   "name": "python",
   "nbconvert_exporter": "python",
   "pygments_lexer": "ipython3",
   "version": "3.8.5"
  }
 },
 "nbformat": 4,
 "nbformat_minor": 5
}
