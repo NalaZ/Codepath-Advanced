{
 "cells": [
  {
   "cell_type": "markdown",
   "id": "efc12665",
   "metadata": {},
   "source": [
    "### Dijkstra"
   ]
  },
  {
   "cell_type": "code",
   "execution_count": 2,
   "id": "95e81b9c",
   "metadata": {},
   "outputs": [],
   "source": [
    "from typing import List\n",
    "from collections import deque"
   ]
  },
  {
   "cell_type": "code",
   "execution_count": 10,
   "id": "89da31a8",
   "metadata": {},
   "outputs": [],
   "source": [
    "\"\"\"\n",
    "Minimum weight path in a directed graph\n",
    "\"\"\"\n",
    "#!/bin/python3\n",
    "\n",
    "import math\n",
    "import os\n",
    "import random\n",
    "import re\n",
    "import sys\n",
    "\n",
    "\n",
    "\n",
    "#\n",
    "# Complete the 'minCost' function below.\n",
    "#\n",
    "# The function is expected to return an INTEGER.\n",
    "# The function accepts WEIGHTED_INTEGER_GRAPH g as parameter.\n",
    "#\n",
    "\n",
    "#\n",
    "# For the weighted graph, <name>:\n",
    "#\n",
    "# 1. The number of nodes is <name>_nodes.\n",
    "# 2. The number of edges is <name>_edges.\n",
    "# 3. An edge exists between <name>_from[i] and <name>_to[i]. The weight of the edge is <name>_weight[i].\n",
    "#\n",
    "#\n",
    "\n",
    "def minCost(g_nodes, g_from, g_to, g_weight):\n",
    "    # Dijkstra\n",
    "    dist = [float('inf')]*(g_nodes+1)   # x: Minimum distance to get to x from 1\n",
    "    dist[1] = 0\n",
    "    prev = [None]*(g_nodes+1)   # x: The previous node in the minimum distance path to x from 1\n",
    "    done = [False]*(g_nodes+1)\n",
    "    import heapq\n",
    "    pq = [(0,1)]    # Each node is (d, x). d: distance. x:node\n",
    "    heapq.heapify(pq)\n",
    "    \n",
    "    while pq:\n",
    "        d, node = heapq.heappop(pq)\n",
    "        if node == g_nodes:\n",
    "            return d\n",
    "        if not done[node]:\n",
    "            done[node] = True\n",
    "            toImplicitlyVisit = {x for x in range(1,g_nodes+1) if x!= node}\n",
    "            # Explore neighbors (explicit)\n",
    "            for i, fromN in enumerate(g_from):\n",
    "                if fromN == node:\n",
    "                    neigh = g_to[i]\n",
    "                    toImplicitlyVisit.remove(neigh)\n",
    "                    weight = g_weight[i]\n",
    "                    if d + weight < dist[neigh]:\n",
    "                        dist[neigh] = d + weight\n",
    "                        prev[neigh] = node\n",
    "                        heapq.heappush(pq, (dist[neigh], neigh))\n",
    "            # Explore neighbors (implicit)\n",
    "            for neigh in toImplicitlyVisit:\n",
    "                weight = 1\n",
    "                if d + weight < dist[neigh]:\n",
    "                    dist[neigh] = d + weight\n",
    "                    prev[neigh] = node\n",
    "                    heapq.heappush(pq, (dist[neigh], neigh))\n",
    "    \n",
    "         \n",
    "    \n"
   ]
  },
  {
   "cell_type": "markdown",
   "id": "9ff21ecb",
   "metadata": {},
   "source": [
    "## Topological Sort\n"
   ]
  },
  {
   "cell_type": "markdown",
   "id": "2619bbca",
   "metadata": {},
   "source": [
    "### 310. Minimum Height Trees\n"
   ]
  },
  {
   "cell_type": "code",
   "execution_count": 10,
   "id": "583c0d18",
   "metadata": {},
   "outputs": [
    {
     "name": "stdout",
     "output_type": "stream",
     "text": [
      "[[1], [0, 2], [1]]\n",
      "[1, 2, 1]\n",
      "[[], [2], [1]]\n",
      "[[], [], []]\n"
     ]
    }
   ],
   "source": [
    "graph = [[1],[0,2],[1]]\n",
    "degree = list(map(len, graph))\n",
    "\n",
    "print(graph)\n",
    "print(degree)\n",
    "for node, neighbors in enumerate(graph):\n",
    "    if len(neighbors) == 1:\n",
    "        # Remove this leaf node,\n",
    "        parent = graph[node].pop()\n",
    "        graph[parent].remove(node)\n",
    "        print(graph)\n",
    "        \n",
    "        "
   ]
  },
  {
   "cell_type": "markdown",
   "id": "01e5c1a6",
   "metadata": {},
   "source": [
    "### Course Schedule\n",
    "\n",
    "Detect cycles in Directed Graph"
   ]
  },
  {
   "cell_type": "code",
   "execution_count": 2,
   "id": "3ca55989",
   "metadata": {},
   "outputs": [],
   "source": [
    "def canFinish(numCourses: int, prerequisites) -> bool:\n",
    "    '''\n",
    "    Topological Sort.\n",
    "\n",
    "    Need for each course:\n",
    "    - The number of prereq needed to unlock this course\n",
    "    - A list of courses that has this course as prereq\n",
    "    '''\n",
    "    ## Preparation\n",
    "    prereq = [0]*numCourses     # number of prereq for each course\n",
    "    graph = [[] for _ in range(numCourses)]   # the outgoing neighbors of a course\n",
    "    for a, b in prerequisites:\n",
    "        # b -> a\n",
    "        prereq[a] += 1\n",
    "        graph[b].append(a)\n",
    "\n",
    "    ## Topological \n",
    "    taken = 0\n",
    "\n",
    "    canTake = [course for course, numPrereq in enumerate(prereq) if numPrereq==0]\n",
    "\n",
    "    while True:\n",
    "\n",
    "        nextCanTake = []\n",
    "        for course in canTake:\n",
    "            # Remove this course from the graph\n",
    "            for nextCourse in graph[course]:\n",
    "                prereq[nextCourse] -= 1\n",
    "\n",
    "                # Record new courses that become available for the next iteration\n",
    "                if prereq[nextCourse] == 0:\n",
    "                    # `nextCourse` got unlocked\n",
    "                    nextCanTake.append(nextCourse)\n",
    "\n",
    "        taken += len(canTake)\n",
    "        canTake = nextCanTake\n",
    "\n",
    "        if not nextCanTake:  # Not unlocking any new course in this iteration. \n",
    "            break\n",
    "\n",
    "    return taken == numCourses\n"
   ]
  },
  {
   "cell_type": "markdown",
   "id": "a75154bd",
   "metadata": {},
   "source": [
    "### Course Schedule II\n",
    "\n",
    "Return the order of courses I should take to finish all courses. \n",
    "\n",
    "If it's impossible to finish all courses, return `[]`"
   ]
  },
  {
   "cell_type": "code",
   "execution_count": 3,
   "id": "254154d5",
   "metadata": {},
   "outputs": [],
   "source": [
    "def findOrder(numCourses: int, prerequisites):\n",
    "    '''\n",
    "    Need for each course:\n",
    "    - number of prereqs it still has\n",
    "    - list of \"next courses\" that has it as a prereq\n",
    "        (the outgoing neighbors of the node)\n",
    "    '''\n",
    "\n",
    "    prereq = [0]*numCourses                     # course: number of prereqs\n",
    "    graph = [[] for _ in range(numCourses)]     # course: list of next courses \n",
    "    for a, b in prerequisites:  # b -> a\n",
    "        prereq[a] += 1\n",
    "        graph[b].append(a)\n",
    "\n",
    "    ## Topological Sort\n",
    "    '''\n",
    "    Keep finding the courses with 0 prereqs.  Finish those courses. \n",
    "    Upon finishing, a course could \"unlock\" other course. Record these as the next courses to take.\n",
    "    '''\n",
    "\n",
    "    ordering = []   # answer. Courses took in topological order\n",
    "\n",
    "\n",
    "    canTakes =  [course for course, numPrereq in enumerate(prereq) if numPrereq==0]\n",
    "\n",
    "    # loops... Until we're not able to unlock new courses. \n",
    "    while canTakes: \n",
    "        nextCanTakes = []\n",
    "        for canTake in canTakes:\n",
    "            # Finish this course. Potentially unlock next courses\n",
    "            for nextCourse in graph[canTake]:\n",
    "                prereq[nextCourse] -= 1\n",
    "\n",
    "                # Finishing `canTake` unlocks the next course\n",
    "                if prereq[nextCourse] == 0:\n",
    "                    nextCanTakes.append(nextCourse)\n",
    "\n",
    "        ordering.extend(canTakes)\n",
    "        canTakes = nextCanTakes    # for the next iteration\n",
    "\n",
    "\n",
    "    return ordering if len(ordering)==numCourses else []"
   ]
  },
  {
   "cell_type": "markdown",
   "id": "ae7f2c30",
   "metadata": {},
   "source": [
    "## Minimum Spanning Tree"
   ]
  },
  {
   "cell_type": "code",
   "execution_count": 44,
   "id": "a684fb67",
   "metadata": {},
   "outputs": [],
   "source": [
    "## ???"
   ]
  },
  {
   "cell_type": "code",
   "execution_count": null,
   "id": "4e99dd41",
   "metadata": {},
   "outputs": [],
   "source": []
  },
  {
   "cell_type": "markdown",
   "id": "ff96f639",
   "metadata": {},
   "source": [
    "## Hard Graph Problems"
   ]
  },
  {
   "cell_type": "markdown",
   "id": "c507bee2",
   "metadata": {},
   "source": [
    "### 127 Word ladder (Hard)\n",
    "Given a `wordList`, find the shortest transformation sequence (each word differs by exactly 1 char) from `beginWord` to `endWord`. \n",
    "\n",
    "`N = number of words in wordList`\n",
    "\n",
    "`w = length of each word`\n",
    "\n",
    "BFS from `beginWord` until reaches `endWord`. \n",
    "\n",
    "**Without Preprocessing** \n",
    "Time Complexity: `O(V+E) * N * w`\n",
    "(BFS. At each BFS visit, check through all `N` other words (each takes `w` time) to see if it's a neighbor).\n",
    "\n",
    "**With Preprocessing**\n",
    "\n",
    "*Preprocessing*: Get the `neighbors` of each word (e.g. `alan`->{`_lan`, `a_an`, `al_n`, `ala_`}. \n",
    "Reverse the mapping. \n",
    "\n",
    "Time Complexity: `N*w + O(V+E) * w`\n",
    "\n",
    "**Smartest**\n",
    "\n",
    "- Put all words in `wordList` into a hashtable for instant lookup.\n",
    "- To find all neighbors of `word`, tweak all `w` chars in `word`, each for 25 times. Check if the tweaked word is in the hashtable. \n",
    "\n",
    "Time Complexity: `25w * O(V+E)`"
   ]
  },
  {
   "cell_type": "code",
   "execution_count": 6,
   "id": "90c1370d",
   "metadata": {},
   "outputs": [],
   "source": [
    "## Input Data\n",
    "beginWord = \"hit\"\n",
    "endWord = \"cog\"\n",
    "wordList = [\"hot\",\"dot\",\"dog\",\"lot\",\"log\",\"cog\"]"
   ]
  },
  {
   "cell_type": "code",
   "execution_count": 15,
   "id": "dd4eff6b",
   "metadata": {},
   "outputs": [],
   "source": [
    "'''\n",
    "Without Preprocessing\n",
    "Time Complexity: `O(V+E) * N * w`\n",
    "(BFS. At each BFS visit, check through all `N` other words (each takes `w` time) to see if it's a neighbor).\n",
    "'''\n",
    "def ladderLength(beginWord: str, endWord: str, wordList) -> int:\n",
    "    # Easy case: endWord not in wordList\n",
    "    if endWord not in wordList:\n",
    "        return 0\n",
    "\n",
    "    def differBy1(w1, w2):\n",
    "        \"\"\"check if words w1 and w2 differ by exactly 1 character\n",
    "        Given len(w1) == len(w2)\n",
    "        \"\"\"\n",
    "        index = 0\n",
    "        diff = 0    # number of different chars\n",
    "        while index < len(w1):\n",
    "            if w1[index] != w2[index]:\n",
    "                diff += 1\n",
    "                if diff > 1:\n",
    "                    return False\n",
    "            index += 1\n",
    "        return diff == 1\n",
    "\n",
    "    \"\"\"\n",
    "    Start from `beginWord` and do BFS (for shortest path).\n",
    "    While start from `endWord` and do BFS.\n",
    "    If the two BFS reaches a word in common, then return their combined length.\n",
    "    Choose the \"smaller \"\n",
    "    Visit each word in wordList at most once. \n",
    "    Exit when we see `endWord`.\n",
    "\n",
    "    \"\"\"\n",
    "    visited = set()\n",
    "    queue = deque()\n",
    "    queue.append((beginWord, 1))      # (word, distance from beginWord)\n",
    "    while queue:\n",
    "        word, dist = queue.popleft()\n",
    "        # Yay! Found the endWord\n",
    "        if word == endWord:\n",
    "            return dist\n",
    "\n",
    "        for neigh in wordList:\n",
    "            if neigh not in visited and differBy1(word, neigh):\n",
    "                visited.add(neigh)\n",
    "                queue.append((neigh, dist+1))\n",
    "\n",
    "\n",
    "\n",
    "    return 0\n",
    "\n"
   ]
  },
  {
   "cell_type": "code",
   "execution_count": 16,
   "id": "8cbd5e48",
   "metadata": {},
   "outputs": [
    {
     "data": {
      "text/plain": [
       "4"
      ]
     },
     "execution_count": 16,
     "metadata": {},
     "output_type": "execute_result"
    }
   ],
   "source": [
    "## Input Data\n",
    "beginWord = \"red\"\n",
    "endWord = \"tax\"\n",
    "wordList -[\"ted\",\"tex\",\"red\",\"tax\",\"tad\",\"den\",\"rex\",\"pee\"]\n",
    "\n",
    "ladderLength(beginWord, endWord, wordList)"
   ]
  },
  {
   "cell_type": "code",
   "execution_count": 27,
   "id": "10ebbe1d",
   "metadata": {},
   "outputs": [
    {
     "data": {
      "text/plain": [
       "'chl0e'"
      ]
     },
     "execution_count": 27,
     "metadata": {},
     "output_type": "execute_result"
    }
   ],
   "source": [
    "a = {1,2,3}\n",
    "b = {1,3,5}\n",
    "a |= b\n",
    "\n",
    "word = \"chloe\"\n",
    "lst = list(word)\n",
    "lst[3] = '0'\n",
    "''.join(lst)\n",
    "\n"
   ]
  },
  {
   "cell_type": "markdown",
   "id": "eaa63760",
   "metadata": {},
   "source": [
    "#### Find Neighbors efficiently after first doing `set(wordList)`"
   ]
  },
  {
   "cell_type": "code",
   "execution_count": 22,
   "id": "344d82ff",
   "metadata": {},
   "outputs": [],
   "source": [
    "wordSet = set(wordList)\n",
    "def findNeighbors(word):\n",
    "    \"\"\"\n",
    "    Tweak each letter (w total) 26 times. See check if the tweaked word is in wordSet. Return all such tweaked words.\n",
    "\n",
    "    Need: wordSet()\n",
    "    Time Complexity: Takes O(26*w) time\n",
    "    \"\"\"\n",
    "    neighbors = []\n",
    "    for i in range(w):\n",
    "        # tweak this letter\n",
    "        for d in range(26):\n",
    "            lst = list(word)\n",
    "            lst[i] = chr(ord('a')+d)    # tweaked letter at the i-th position\n",
    "            tweaked = ''.join(lst)\n",
    "            if (tweaked in wordSet) and (tweaked != word):\n",
    "                neighbors.append(tweaked)\n",
    "    return neighbors\n"
   ]
  },
  {
   "cell_type": "code",
   "execution_count": 26,
   "id": "7932a1ac",
   "metadata": {},
   "outputs": [],
   "source": [
    "## Bidirectional BFS \n",
    "def ladderLength_BiBFS(beginWord, endWord, wordList):\n",
    "    if endWord not in wordList:\n",
    "        return 0\n",
    "\n",
    "    wordSet = set(wordList)\n",
    "    \n",
    "    ## Bi-BFS\n",
    "    beginQueue = deque([(beginWord,1)])    # starting from beginWord\n",
    "    endQueue = deque([(endWord,1)])      # starting from endWord\n",
    "    visitedBegin = {beginWord:1}\n",
    "    visitedEnd = {endWord:1}      # node_visited: farthst distance\n",
    "    \n",
    "    while beginQueue and endQueue:\n",
    "        word1, dist1 = beginQueue.popleft()\n",
    "        word2, dist2 = endQueue.popleft()\n",
    "        \n",
    "        for neigh in findNeighbors(word1):\n",
    "            ## TODO"
   ]
  },
  {
   "cell_type": "markdown",
   "id": "37f2bb59",
   "metadata": {},
   "source": [
    "### Word Ladder 2\n",
    "Find all the shortest transformation sequence from `beginWord` to `endWord`.\n"
   ]
  },
  {
   "cell_type": "code",
   "execution_count": 19,
   "id": "a8bef218",
   "metadata": {},
   "outputs": [],
   "source": [
    "import collections\n",
    "def findLadders(beginWord: str, endWord: str, wordList):\n",
    "    \n",
    "    \"\"\"\n",
    "    BFS while recording the path travelled to get here. \n",
    "\n",
    "    \"\"\"\n",
    "    ans = []   # All shortest path from beginWord to endWord\n",
    "    if endWord not in wordList:\n",
    "        return ans\n",
    "\n",
    "    w = len(endWord)\n",
    "    wordSet = set(wordList)\n",
    "\n",
    "    def findNeighbors(word):\n",
    "        \"\"\"\n",
    "        Tweak each letter (w total) 26 times. See check if the tweaked word is in wordSet. Return all such tweaked words.\n",
    "        \n",
    "        Need: wordSet()\n",
    "        Time Complexity: Takes O(26*w) time\n",
    "        \"\"\"\n",
    "        neighbors = []\n",
    "        for i in range(w):\n",
    "            # tweak this letter\n",
    "            for d in range(26):\n",
    "                lst = list(word)\n",
    "                lst[i] = chr(ord('a')+d)    # tweaked letter at the i-th position\n",
    "                tweaked = ''.join(lst)\n",
    "                if (tweaked in wordSet) and (tweaked != word):\n",
    "                    neighbors.append(tweaked)\n",
    "        return neighbors\n",
    "\n",
    "\n",
    "    shortest = float('inf')\n",
    "    ## BFS, record the path as we traverse\n",
    "    visited = set()\n",
    "    queue = deque()\n",
    "    queue.append((beginWord, [beginWord]))  # curr, path to get to curr\n",
    "    while queue:\n",
    "        word, path = queue.popleft()\n",
    "        visited.add(word)\n",
    "        ## Yay, reaches endWord\n",
    "        if word == endWord:\n",
    "            if len(path) <= shortest:\n",
    "                ans.append(path)\n",
    "                shortest = len(path)\n",
    "            else:\n",
    "                break\n",
    "\n",
    "        for neigh in findNeighbors(word):\n",
    "            if (neigh not in visited):\n",
    "                queue.append((neigh, path+[neigh]))\n",
    "    return ans           \n",
    "\n",
    "\n",
    "\n"
   ]
  },
  {
   "cell_type": "code",
   "execution_count": 18,
   "id": "bc18de04",
   "metadata": {},
   "outputs": [
    {
     "data": {
      "text/plain": [
       "[['red', 'ted', 'tad', 'tax'],\n",
       " ['red', 'ted', 'tex', 'tax'],\n",
       " ['red', 'rex', 'tex', 'tax']]"
      ]
     },
     "execution_count": 18,
     "metadata": {},
     "output_type": "execute_result"
    }
   ],
   "source": [
    "## Input Data\n",
    "beginWord = \"red\"\n",
    "endWord = \"tax\"\n",
    "wordList =[\"ted\",\"tex\",\"red\",\"tax\",\"tad\",\"den\",\"rex\",\"pee\"]\n",
    "\n",
    "findLadders(beginWord, endWord, wordList)"
   ]
  },
  {
   "cell_type": "markdown",
   "id": "167686e7",
   "metadata": {},
   "source": [
    "## **Need BIdirectional BFS to speed up**\n",
    "\n",
    "#### Why is Bidirectional BFS good?\n",
    "- `b` = branching factor\n",
    "- `d` = distance from `start_node` to `end_node`\n",
    "- Normal BFS Time Complexity: $b^d$\n",
    "- Bidirectional BFS Time Complexity: $2\\times b^{d/2}$\n",
    "\n",
    "#### Approach\n",
    "Two queues: \n",
    "- `sourceQueue` for BFS in *forward* direction from source to target,\n",
    "- `targetQueue` for BFS in *backward* direction from target to source.\n",
    "\n",
    "In every iteration, choose the smaller queue for the next iteration.\n"
   ]
  },
  {
   "cell_type": "code",
   "execution_count": 20,
   "id": "aa646c28",
   "metadata": {},
   "outputs": [],
   "source": [
    "## Bidirectional BFS\n",
    "\n",
    "def findLadders_BiBFS(beginWord, endWord, wordList):\n",
    "    ans = []   # All valid word ladders\n",
    "    if endWord not in wordList:\n",
    "        return ans\n",
    "    \n",
    "    wordSet = set(wordList)\n",
    "    def findNeighbors(word):\n",
    "        \"\"\"\n",
    "        Tweak each letter (w total) 26 times. See check if the tweaked word is in wordSet. Return all such tweaked words.\n",
    "        \n",
    "        Need: wordSet()\n",
    "        Time Complexity: Takes O(26*w) time\n",
    "        \"\"\"\n",
    "        neighbors = []\n",
    "        for i in range(w):\n",
    "            # tweak this letter\n",
    "            for d in range(26):\n",
    "                lst = list(word)\n",
    "                lst[i] = chr(ord('a')+d)    # tweaked letter at the i-th position\n",
    "                tweaked = ''.join(lst)\n",
    "                if (tweaked in wordSet) and (tweaked != word):\n",
    "                    neighbors.append(tweaked)\n",
    "        return neighbors\n",
    "    \n",
    "    ## Bidirectional BFS\n",
    "    sourceQueue, targetQueue = deque([ (beginWord,[]) ]), deque([ (endWord,[]) ])\n",
    "    workingQueue = sourceQueue\n",
    "    while workingQueue:\n",
    "        word, path = workingQueue.popleft()\n",
    "        for neigh in findNeighbors(word):\n",
    "            if \n",
    "    "
   ]
  },
  {
   "cell_type": "markdown",
   "id": "4654eba3",
   "metadata": {},
   "source": [
    "### Reconstruct Itinerary\n",
    "\n",
    "**Postorder DFS** (Construct graph in adj list)\n",
    "\n",
    "Starting from `curr = JFK`, do a while loop to call `dfs(neigh)` on all the neighbor airports. \n",
    "\n",
    "Before calling, **remove the edge `(curr, neigh)` from the graph**.  \n",
    "After the call, **add that edge back to the graph**\n",
    "\n",
    "Once we did all the possible edges, process `curr` airport (postorder):\n",
    "\n",
    "    if `curr` now has no outgoing airports, then add `curr` to answer.\n",
    "    \n",
    "(the first such node would be the END in our itinerary. Then the second last airport, then the third last,...)\n",
    "\n",
    "In the end, return the answer in reverse. "
   ]
  },
  {
   "cell_type": "code",
   "execution_count": null,
   "id": "994254be",
   "metadata": {},
   "outputs": [],
   "source": [
    "def "
   ]
  },
  {
   "cell_type": "markdown",
   "id": "e7609c87",
   "metadata": {},
   "source": [
    "## Find all Bridges in connected Graph\n",
    "\n",
    "Bridge: an edge, if removed, would make the graph disconnected. \n",
    "\n",
    "(More general definition: \n",
    "\n",
    "    an edge, if removed, would increase the number of Connected Components of G)\n",
    "    \n",
    "When curr has no unvisited nodes, check earlier nodes (!= my parent) for potential smaller `disc`. Set their `disc` to be my `low` if its smaller. \n",
    "\n",
    "If `discovery_time[curr] < low[child]` , then `(curr, child)` is a bridge. \n",
    "\n",
    "Else if a `child` have smaller `low[child]` than my `low[curr]`, then update my `low[curr]` to be smaller. "
   ]
  },
  {
   "cell_type": "code",
   "execution_count": 6,
   "id": "73192c4e",
   "metadata": {},
   "outputs": [
    {
     "data": {
      "text/plain": [
       "[[1, 3]]"
      ]
     },
     "execution_count": 6,
     "metadata": {},
     "output_type": "execute_result"
    }
   ],
   "source": [
    "class CriticalConnections:    # n nodes labelled 0,1,..,n-1\n",
    "    \n",
    "    time = 0\n",
    "    \n",
    "    def clock(self):\n",
    "        self.time += 1\n",
    "        return self.time    \n",
    "    \n",
    "    def criticalConnections(self, n: int, connections: List[List[int]]) -> List[List[int]]:\n",
    "        '''\n",
    "        Need for each node:\n",
    "        - disc[node] = discovery time \n",
    "        - low[node] = the discovery time of the earliest node that this node is connected to.\n",
    "        \n",
    "        DFS starting on `curr`:\n",
    "            - set curr as visited. Set discovery time. Initialize `low` as `disc`. \n",
    "            - For each neighbor of `curr`:\n",
    "                - If the neighbor is not visited, then call it `child`\n",
    "                    - DFS(child)\n",
    "                    - If that child gets along well with an ancestor (low[child] <= disc[curr]), \n",
    "                         then update my low[curr] to be my child's. \n",
    "                    - Else if the child has no connection with any ancestor (low[child] > disc[curr]),\n",
    "                         then this child is abandable ==> BRIDGE\n",
    "                \n",
    "                - Else the neighbor is visited, and the neighbor is not curr's parent, \n",
    "                  then call the neighbor `ancestor`.\n",
    "                    - Lower low[curr] to be disc[ancestor] if smaller\n",
    "        '''        \n",
    "\n",
    "        bridges = []\n",
    "        \n",
    "        # Build graph\n",
    "        graph = [[] for _ in range(n)]\n",
    "        for a, b in connections:\n",
    "            graph[a].append(b)\n",
    "            graph[b].append(a)\n",
    "            \n",
    "        \n",
    "        # DFS\n",
    "        visited = [False]*n\n",
    "        disc = [0]*n\n",
    "        low = [0]*n\n",
    "        \n",
    "        def dfs(curr, parent):\n",
    "            visited[curr] = True\n",
    "            disc[curr] = low[curr] = self.clock()\n",
    "            \n",
    "            for neigh in graph[curr]:\n",
    "                # Child\n",
    "                if not visited[neigh]:\n",
    "                    child = neigh\n",
    "                    dfs(child, parent=curr)\n",
    "                    \n",
    "                    # The child has no connections to any ancestor\n",
    "                    if low[child] > disc[curr]:\n",
    "                        bridges.append([curr, child])\n",
    "                    \n",
    "                    # the child might connects to an ancestor, and curr can use its low[child]\n",
    "                    low[curr] = min(low[curr], low[child])\n",
    "                \n",
    "                # Ancestor (but not direct parent)\n",
    "                elif neigh != parent:\n",
    "                    ancestor = neigh\n",
    "                    low[curr] = min(low[curr], disc[ancestor])\n",
    "                    \n",
    "        dfs(0, None)   # start from any node is fine.\n",
    "        return bridges\n",
    "    \n",
    "    \n",
    "a = CriticalConnections()           \n",
    "a.criticalConnections(4, [[0,1],[1,2],[2,0],[1,3]])"
   ]
  },
  {
   "cell_type": "code",
   "execution_count": null,
   "id": "d6c41ebc",
   "metadata": {},
   "outputs": [],
   "source": []
  },
  {
   "cell_type": "markdown",
   "id": "c3c43fde",
   "metadata": {},
   "source": [
    "Union Find\n",
    "- Path compression. Union by size.\n",
    "- Can Get number of roots. Size of each uptree. \n",
    "\n",
    "interesting one : \n",
    "https://leetcode.com/problems/regions-cut-by-slashes/"
   ]
  },
  {
   "cell_type": "code",
   "execution_count": 33,
   "id": "93a3180e",
   "metadata": {},
   "outputs": [],
   "source": [
    "char = '\\\\'"
   ]
  },
  {
   "cell_type": "code",
   "execution_count": null,
   "id": "03f25930",
   "metadata": {},
   "outputs": [],
   "source": []
  }
 ],
 "metadata": {
  "kernelspec": {
   "display_name": "Python 3 (ipykernel)",
   "language": "python",
   "name": "python3"
  },
  "language_info": {
   "codemirror_mode": {
    "name": "ipython",
    "version": 3
   },
   "file_extension": ".py",
   "mimetype": "text/x-python",
   "name": "python",
   "nbconvert_exporter": "python",
   "pygments_lexer": "ipython3",
   "version": "3.8.5"
  }
 },
 "nbformat": 4,
 "nbformat_minor": 5
}
