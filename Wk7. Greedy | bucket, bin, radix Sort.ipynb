{
 "cells": [
  {
   "cell_type": "code",
   "execution_count": 2,
   "id": "7225dbcf",
   "metadata": {},
   "outputs": [],
   "source": [
    "from collections import deque\n",
    "from typing import List"
   ]
  },
  {
   "cell_type": "markdown",
   "id": "4b6697d0",
   "metadata": {},
   "source": [
    "# Greedy\n",
    "Easy\n",
    "- 455 Assign cookies\n",
    "- 1005\n",
    "- 860\n",
    "\n",
    "Medium\n",
    "- Array\n",
    "    - 376 wiggle subsequence\n",
    "    - 738 monototic increase \n",
    "- Stock\n",
    "    - 122 Best time to buy & sell stock 2\n",
    "    - 714 \n",
    "- 2D\n",
    "    - 135 distribute candy\n",
    "    - 406 reconstruct queue based on height\n",
    "    \n",
    "Harder\n",
    "- Interval\n",
    "    - 55 game\n",
    "    - 452\n",
    "    - 56 merge interval \n",
    "    \n",
    "\n",
    "    \n",
    "   "
   ]
  },
  {
   "cell_type": "code",
   "execution_count": null,
   "id": "ec33e3bc",
   "metadata": {},
   "outputs": [],
   "source": []
  },
  {
   "cell_type": "markdown",
   "id": "732344a6",
   "metadata": {},
   "source": [
    "## When to use Greedy\n",
    "\n",
    "Local optimum => Global optimum. \n"
   ]
  },
  {
   "cell_type": "code",
   "execution_count": 8,
   "id": "44f30016",
   "metadata": {},
   "outputs": [],
   "source": [
    "diffs = deque([1,2])\n",
    "curr = diffs[0]\n"
   ]
  },
  {
   "cell_type": "code",
   "execution_count": null,
   "id": "f3c6045d",
   "metadata": {},
   "outputs": [],
   "source": []
  },
  {
   "cell_type": "code",
   "execution_count": 14,
   "id": "24e4c5ed",
   "metadata": {},
   "outputs": [
    {
     "name": "stdout",
     "output_type": "stream",
     "text": [
      "1\n",
      "2\n",
      "3\n",
      "4\n",
      "5\n",
      "6\n",
      "7\n",
      "8\n",
      "9\n"
     ]
    },
    {
     "ename": "IndexError",
     "evalue": "list index out of range",
     "output_type": "error",
     "traceback": [
      "\u001b[0;31m---------------------------------------------------------------------------\u001b[0m",
      "\u001b[0;31mIndexError\u001b[0m                                Traceback (most recent call last)",
      "Input \u001b[0;32mIn [14]\u001b[0m, in \u001b[0;36m<module>\u001b[0;34m\u001b[0m\n\u001b[1;32m      3\u001b[0m \u001b[38;5;28;01mfor\u001b[39;00m i \u001b[38;5;129;01min\u001b[39;00m \u001b[38;5;28mrange\u001b[39m(\u001b[38;5;28mlen\u001b[39m(arr)):\n\u001b[1;32m      4\u001b[0m     i \u001b[38;5;241m+\u001b[39m\u001b[38;5;241m=\u001b[39m \u001b[38;5;241m1\u001b[39m\n\u001b[0;32m----> 5\u001b[0m     \u001b[38;5;28mprint\u001b[39m(\u001b[43marr\u001b[49m\u001b[43m[\u001b[49m\u001b[43mi\u001b[49m\u001b[43m]\u001b[49m)\n",
      "\u001b[0;31mIndexError\u001b[0m: list index out of range"
     ]
    }
   ],
   "source": [
    "arr = list(range(10))\n",
    "\n",
    "    \n",
    "    \n",
    "    \n",
    "\n"
   ]
  },
  {
   "cell_type": "code",
   "execution_count": null,
   "id": "6e6090e0",
   "metadata": {},
   "outputs": [],
   "source": []
  },
  {
   "cell_type": "markdown",
   "id": "8a1d2334",
   "metadata": {},
   "source": [
    "## Non-Comparison sorting algorithms"
   ]
  },
  {
   "cell_type": "markdown",
   "id": "b96c091c",
   "metadata": {},
   "source": [
    "$O(n)$ runtime"
   ]
  },
  {
   "cell_type": "markdown",
   "id": "c66a54fd",
   "metadata": {},
   "source": []
  },
  {
   "cell_type": "markdown",
   "id": "5deb1588",
   "metadata": {},
   "source": [
    "## Idea of Bucket sort\n",
    "\n",
    "### Contains Almost Duplicate III\n",
    "\n",
    "- Sliding window of size t+1\n",
    "- Bucket width `w = t+1`\n",
    "- Divide each element by `w` => The bucket id \n",
    "- Place each element `num` in `bucket[bucket_id]`\n",
    "- Check for an element's almost duplicate by looking at buckets at `[bucket_id]`, `[bucket_id-1]` and check if the numbers differ within `k`, and `[bucket_id+1]` and check if the numbers differ within `k`."
   ]
  },
  {
   "cell_type": "code",
   "execution_count": 3,
   "id": "4cd8bedb",
   "metadata": {},
   "outputs": [],
   "source": [
    "def containsNearbyAlmostDuplicate(nums: List[int], k: int, t: int) -> bool:\n",
    "    '''\n",
    "    Buckets of width t+1\n",
    "    [+] Elements in the same bucket must be \"almost duplicates\"\n",
    "    [!] Possible to have \"almost duplicate\" in nearby buckets \n",
    "    (bucket(x-1), bucket(x+1))\n",
    "\n",
    "    t = 3\n",
    "    bucket_id:  num // (t+1) \n",
    "    *      \n",
    "                *\n",
    "    0,1,2,3   4,5,6,7  8,9,10,11\n",
    "    bucket0   bucket1  bucket2\n",
    "\n",
    "    Sliding window of size k+1\n",
    "\n",
    "    k = 2\n",
    "    1 5 9 1 5 9\n",
    "          ^  \n",
    "remove  ^\n",
    "    0 1 2 3 4\n",
    "    '''\n",
    "\n",
    "    buckets = {}    # {id: number from nums}\n",
    "\n",
    "\n",
    "    for i, num in enumerate(nums):\n",
    "        bucket_id = num // (t+1) \n",
    "\n",
    "        # Check if num is already in this bucket, or the left or right bucket. \n",
    "        if bucket_id in buckets:\n",
    "            return True\n",
    "        if (bucket_id - 1 in buckets) and abs(num - buckets[bucket_id-1]) <= t:\n",
    "            return True\n",
    "        if (bucket_id + 1 in buckets) and abs(num - buckets[bucket_id+1]) <= t:\n",
    "            return True\n",
    "\n",
    "        # Add num to the correct bucket\n",
    "        buckets[bucket_id] = num\n",
    "\n",
    "        # Remove the window's leftmost element from buckets \n",
    "        # before the whole window shifts rightward\n",
    "        if i-k >= 0:\n",
    "            to_remove = nums[i-k]\n",
    "            bucket_id_to_remove = to_remove // (t+1)\n",
    "            buckets.pop(bucket_id_to_remove)\n",
    "\n",
    "    return False\n",
    "\n",
    "    '''\n",
    "    Time: O(N)  where N is the length of nums.\n",
    "    Space: O(N)\n",
    "    '''"
   ]
  },
  {
   "cell_type": "markdown",
   "id": "bfdeef15",
   "metadata": {},
   "source": [
    "### Light bulbs \n",
    "\n",
    "You have n bulbs in a row numbered from 1 to n. Initially, all the bulbs are turned off. We turn on exactly one bulb every day until all bulbs are on after n days.\n",
    "\n",
    "You are given an array bulbs of length n where bulbs[i] = x means that on the (i+1)th day, we will turn on the bulb at position x where i is 0-indexed and x is 1-indexed.\n",
    "\n",
    "Given an integer k, return the minimum day number such that there exists two turned on bulbs that have exactly k bulbs between them that are all turned off. If there isn't such day, return -1.\n"
   ]
  },
  {
   "cell_type": "code",
   "execution_count": 4,
   "id": "41723165",
   "metadata": {},
   "outputs": [],
   "source": [
    "class LightbulbsKEmptySlots:\n",
    "    def kEmptySlots(self, bulbs: List[int], k: int) -> int:\n",
    "        '''\n",
    "        Bucket sort. \n",
    "        \n",
    "        bulbs = [1,6,3,4]\n",
    "        bucket_width = k+1 = 3\n",
    "\n",
    "        1    3    6\n",
    "        ___  ___  ___\n",
    "        0    1    2\n",
    "        \n",
    "        Each time a bulb index is added to the bucket, check left and right bucket.\n",
    "        If left or right bucket contains a bulb index that differs exactly k+1 from curr bulb index,\n",
    "        then return day. \n",
    "        [!] Make sure there is no intermediate bulb on \n",
    "        => By storing only min and max at each bucket!  \n",
    "        '''\n",
    "        \n",
    "        N = len(bulbs)\n",
    "        \n",
    "        buckets = {}     # {bucketIndex: [min bulb index,  max bulb index]}\n",
    "        width = k+1 \n",
    "        \n",
    "        for day in range(1, N+1):\n",
    "            bulb = bulbs[day-1]\n",
    "            \n",
    "            bi = bulb // width  # bi = bucket index\n",
    "            \n",
    "            # Put this bulb into its bucket. Update the bucket's min and max. \n",
    "            if bi not in buckets:\n",
    "                buckets[bi] = [bulb, bulb]\n",
    "            else:\n",
    "                buckets[bi][0] = min(buckets[bi][0], bulb)\n",
    "                buckets[bi][1] = max(buckets[bi][1], bulb)\n",
    "                \n",
    "            \n",
    "            # Check neighbor buckets\n",
    "            if (bi-1 in buckets):\n",
    "                # max in left bucket  ........  min in curr bucket  => No intermediate light bulb on\n",
    "                # => Are they exactly k bulbs away?\n",
    "                leftBulb = buckets[bi-1][1]\n",
    "                currBulb = buckets[bi][0]\n",
    "                if currBulb - leftBulb == k+1:\n",
    "                    return day\n",
    "                    \n",
    "            if (bi+1 in buckets):\n",
    "                # max in curr bucket ....... min in right bucket => No intermediate light bulb on\n",
    "                # => Are they exactly k bulbs away?\n",
    "                currBulb = buckets[bi][1]\n",
    "                rightBulb = buckets[bi+1][0]\n",
    "                if rightBulb - currBulb == k+1:\n",
    "                    return day\n",
    "            \n",
    "        \n",
    "        return -1\n",
    "    \n",
    "    '''\n",
    "    Time: O(N)\n",
    "    Space = # buckets = O(N/(k+1))\n",
    "    '''\n"
   ]
  },
  {
   "cell_type": "code",
   "execution_count": null,
   "id": "7a6ef3c7",
   "metadata": {},
   "outputs": [],
   "source": []
  }
 ],
 "metadata": {
  "kernelspec": {
   "display_name": "Python 3 (ipykernel)",
   "language": "python",
   "name": "python3"
  },
  "language_info": {
   "codemirror_mode": {
    "name": "ipython",
    "version": 3
   },
   "file_extension": ".py",
   "mimetype": "text/x-python",
   "name": "python",
   "nbconvert_exporter": "python",
   "pygments_lexer": "ipython3",
   "version": "3.8.5"
  }
 },
 "nbformat": 4,
 "nbformat_minor": 5
}
